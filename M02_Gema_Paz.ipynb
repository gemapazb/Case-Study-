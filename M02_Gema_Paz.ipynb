{
 "cells": [
  {
   "cell_type": "code",
   "execution_count": null,
   "id": "2dd7601c",
   "metadata": {},
   "outputs": [],
   "source": []
  },
  {
   "cell_type": "code",
   "execution_count": 1,
   "id": "83bacd90",
   "metadata": {},
   "outputs": [
    {
     "name": "stdout",
     "output_type": "stream",
     "text": [
      "Enter your Lastname please: Cruz\n",
      "Enter your first name : Penelope\n",
      "Enter your current GPA: 3.7\n",
      "Penelope Cruz you are part of Dean's list\n",
      "\n",
      "Enter your Last name please: Lopez\n",
      "Enter your first name : Santana\n",
      "Enter your current GPA: 3.3\n",
      "Santana Lopez you are part of the Honor roll\n",
      "\n",
      "Enter your Last name please: Paz\n",
      "Enter your first name : Gema\n",
      "Enter your current GPA: 3.4\n",
      "Gema Paz you are part of the Honor roll\n",
      "\n",
      "Enter your Last name please: Iturbide\n",
      "Enter your first name : Jose\n",
      "Enter your current GPA: 3.8\n",
      "Jose Iturbide you are part of Dean's list\n",
      "\n",
      "Enter your Last name please: Corazon\n",
      "Enter your first name : Demelon\n",
      "Enter your current GPA: 3.25\n",
      "Demelon Corazon you are part of the Honor roll\n",
      "\n",
      "Enter your Last name please: ZZZ\n"
     ]
    }
   ],
   "source": [
    "# Name: Gema Paz Barcenas \n",
    "# File name: M02_Gema_Paz\n",
    "# Description: This program test if GPA is enough to be part of Dean's list  or  Or Honor Roll.\n",
    "\n",
    "# Ask student to input Lastname \n",
    "last_name = input(\"Enter your Lastname please: \")\n",
    "\n",
    "\n",
    "\n",
    "while last_name != \"ZZZ\":#quit processing student records if the last name entered is 'ZZZ'.\n",
    "    \n",
    "    \n",
    "    \n",
    "    first_name = input(\"Enter your first name : \")# ask for and accept a student's first name.\n",
    "    \n",
    "    \n",
    "    \n",
    "    GPA = float(input(\"Enter your current GPA: \"))#ask for and accept the student's GPA as a float.\n",
    "    \n",
    "    # test if the student's GPA is 3.5 or greater and,\n",
    "    #if so, print a message saying that the student has made the Dean's List.\n",
    "\n",
    "    if GPA >= 3.5:\n",
    "       \n",
    "        print(first_name, last_name + \" you are part of Dean's list\")    \n",
    "       \n",
    "    # Checking if the gpa is 3.25 or more\n",
    "    # Then student has made Honor Roll\n",
    "    else:\n",
    "        if GPA >= 3.25:\n",
    "            print(first_name, last_name + \" you are part of the Honor roll\")            \n",
    "            \n",
    "    last_name = input(\"\\nEnter your Last name please: \")    \n",
    "    # if 'ZZZ' entered program will stop\n",
    "    \n",
    "    \n",
    "    \n",
    "    \n",
    "      "
   ]
  },
  {
   "cell_type": "code",
   "execution_count": null,
   "id": "cbe3526b",
   "metadata": {},
   "outputs": [],
   "source": []
  },
  {
   "cell_type": "code",
   "execution_count": null,
   "id": "9eb840b7",
   "metadata": {},
   "outputs": [],
   "source": []
  },
  {
   "cell_type": "code",
   "execution_count": null,
   "id": "e016fbbc",
   "metadata": {},
   "outputs": [],
   "source": []
  },
  {
   "cell_type": "code",
   "execution_count": null,
   "id": "c3c1c9b4",
   "metadata": {},
   "outputs": [],
   "source": []
  },
  {
   "cell_type": "code",
   "execution_count": null,
   "id": "abd3ebd3",
   "metadata": {},
   "outputs": [],
   "source": []
  },
  {
   "cell_type": "code",
   "execution_count": null,
   "id": "cfd3eda4",
   "metadata": {},
   "outputs": [],
   "source": []
  },
  {
   "cell_type": "code",
   "execution_count": null,
   "id": "2d8830bd",
   "metadata": {},
   "outputs": [],
   "source": []
  }
 ],
 "metadata": {
  "kernelspec": {
   "display_name": "Python 3 (ipykernel)",
   "language": "python",
   "name": "python3"
  },
  "language_info": {
   "codemirror_mode": {
    "name": "ipython",
    "version": 3
   },
   "file_extension": ".py",
   "mimetype": "text/x-python",
   "name": "python",
   "nbconvert_exporter": "python",
   "pygments_lexer": "ipython3",
   "version": "3.9.13"
  }
 },
 "nbformat": 4,
 "nbformat_minor": 5
}
